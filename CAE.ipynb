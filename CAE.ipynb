{
 "cells": [
  {
   "cell_type": "code",
   "execution_count": 2,
   "metadata": {},
   "outputs": [],
   "source": [
    "import os\n",
    "import glob\n",
    "import math\n",
    "import random\n",
    "\n",
    "import numpy as np\n",
    "import matplotlib.pyplot as plt\n",
    "\n",
    "from tensorflow.python import keras\n",
    "from tensorflow.python.keras import backend as K\n",
    "from tensorflow.python.keras.models import Model, Sequential\n",
    "from tensorflow.python.keras.layers import Conv2D, Dense, Input, MaxPooling2D, UpSampling2D, Lambda\n",
    "from tensorflow.python.keras.preprocessing.image import load_img, img_to_array, array_to_img, ImageDataGenerator"
   ]
  },
  {
   "cell_type": "code",
   "execution_count": 3,
   "metadata": {},
   "outputs": [],
   "source": [
    "from tensorflow.python.keras.datasets import mnist\n",
    "\n",
    "(x_train, _), (x_test, _) = mnist.load_data()\n",
    "\n",
    "x_train = x_train.reshape(-1, 28, 28, 1)\n",
    "x_test = x_test.reshape(-1, 28, 28, 1)\n",
    "\n",
    "x_train = x_train/255.\n",
    "x_test = x_test/255."
   ]
  },
  {
   "cell_type": "code",
   "execution_count": 4,
   "metadata": {},
   "outputs": [],
   "source": [
    "def make_masking_noise_data(data_x, percent=0.1):\n",
    "    size = data_x.shape\n",
    "    masking = np.random.binomial(n=1, p=percent, size=size)\n",
    "    return data_x*masking\n",
    "\n",
    "def make_gaussian_noise_data(data_x, scale=0.8):\n",
    "    gaussian_data_x = data_x + np.random.normal(loc=0, scale=scale, size=data_x.shape)\n",
    "    gaussian_data_x = np.clip(gaussian_data_x, 0, 1)\n",
    "    return gaussian_data_x"
   ]
  },
  {
   "cell_type": "code",
   "execution_count": 5,
   "metadata": {},
   "outputs": [
    {
     "data": {
      "image/png": "[encoded data removed]"
     },
     "metadata": {},
     "output_type": "display_data"
    },
    {
     "data": {
      "image/png": "[encoded data removed]"
     },
     "metadata": {},
     "output_type": "display_data"
    },
    {
     "data": {
      "image/png": "[encoded data removed]"
     },
     "metadata": {},
     "output_type": "display_data"
    }
   ],
   "source": [
    "x_train_gauss = make_gaussian_noise_data(x_train)\n",
    "x_train_masked = make_masking_noise_data(x_train)\n",
    "\n",
    "from IPython.display import display_png\n",
    "\n",
    "display_png(array_to_img(x_train[0]))\n",
    "display_png(array_to_img(x_train_gauss[0]))\n",
    "display_png(array_to_img(x_train_masked[0]))\n",
    "\n"
   ]
  },
  {
   "cell_type": "code",
   "execution_count": null,
   "metadata": {},
   "outputs": [],
   "source": [
    "autoencoder = Sequential()\n",
    "\n",
    "autoencoder.add(\n",
    "    Conv2D(\n",
    "        16,\n",
    "        (3, 3),\n",
    "        1,\n",
    "        activation='relu',\n",
    "        padding='same',\n",
    "        input_shape=(28, 28, 1)\n",
    "    )\n",
    ")\n",
    "\n",
    "autoencoder.add(\n",
    "    MaxPooling2D(\n",
    "        (2, 2),\n",
    "        padding='same'\n",
    "    )\n",
    ")\n",
    "\n"
   ]
  }
 ],
 "metadata": {
  "kernelspec": {
   "display_name": "Python 3",
   "language": "python",
   "name": "python3"
  },
  "language_info": {
   "codemirror_mode": {
    "name": "ipython",
    "version": 3
   },
   "file_extension": ".py",
   "mimetype": "text/x-python",
   "name": "python",
   "nbconvert_exporter": "python",
   "pygments_lexer": "ipython3",
   "version": "3.7.3"
  }
 },
 "nbformat": 4,
 "nbformat_minor": 2
}
